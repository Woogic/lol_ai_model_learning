{
 "cells": [
  {
   "cell_type": "code",
   "execution_count": 4,
   "id": "7393026e-f238-4242-b3bd-e89bea96ece2",
   "metadata": {},
   "outputs": [
    {
     "name": "stdout",
     "output_type": "stream",
     "text": [
      "--- 전체 챔피언 데이터(상위 5개) ---\n",
      "     챔피언명  포지션  난이도  공격력  방어력  마법저항력   체력   마나  이동속도  티어      승률      픽률  \\\n",
      "0      가렌   정글    1    8    5      7  671  466   347   1 51.5926  9.4156   \n",
      "1    이즈리얼  서포터    2    6    2      5  607   21   349   2 51.1185  2.9529   \n",
      "2    카타리나   정글    2    3    7      4  613  130   331   1 55.1378 14.2844   \n",
      "3  블리츠크랭크   정글    1    2    4      7  557  430   359   4 46.8202 10.2753   \n",
      "4    마스터이   미드    2    2   10      2  563  350   339   1 53.2490  1.6332   \n",
      "\n",
      "     KDA  \n",
      "0 3.9783  \n",
      "1 2.5225  \n",
      "2 4.8797  \n",
      "3 2.5910  \n",
      "4 2.6387  \n",
      "총 챔피언 데이터 수: 105개\n",
      "\n",
      "\n",
      "--- 예측 재료 데이터 (상위5개) ---\n",
      "       승률\n",
      "0 51.5926\n",
      "1 51.1185\n",
      "2 55.1378\n",
      "3 46.8202\n",
      "4 53.2490\n",
      "\n",
      "\n",
      "--- 티어 분류 목표 데이터 (상위 5개) ---\n",
      "   티어\n",
      "0   1\n",
      "1   0\n",
      "2   1\n",
      "3   0\n",
      "4   1\n",
      "\n",
      "\n"
     ]
    }
   ],
   "source": [
    "#1단계: 데이터준비 - 재료와 목표 나누기\n",
    "import pandas as pd\n",
    "\n",
    "#'lol_champions.csv'파일을 읽어와 'df_lol' 데이터프레임으로 저장합니다.\n",
    "df_lol = pd.read_csv('lol_champions.csv')\n",
    "\n",
    "# ---소수점 출력 포멧 설정 ---\n",
    "# pandas의 출력 옵션을 설정하여 모든 부동 소수점 숫자를 소숫점 4자리까지 표시합니다.\n",
    "pd.options.display.float_format = '{:.4f}'.format\n",
    "\n",
    "print(\"--- 전체 챔피언 데이터(상위 5개) ---\")\n",
    "print(df_lol.head())\n",
    "print(f\"총 챔피언 데이터 수: {len(df_lol)}개\")\n",
    "print(\"\\n\")\n",
    "\n",
    "# --- 예측에 사용할 재료(X)와 목표(y) 나누기 ---\n",
    "\n",
    "#'특성(Features, X)' : 모델이 학습할 '입력' 재료입니다.\n",
    "#예측목표인 '티어'와 '승률', 그리고 '챔피언명'은 재료에서 제외합니다.\n",
    "X = df_lol.drop(['챔피언명','티어','승률'], axis=1)\n",
    "\n",
    "# '목표1: 승률 예측을 위한 정답(y_reg)\n",
    "y_reg = df_lol['승률']\n",
    "\n",
    "# '목표2: 티어분류'를 위한 정답(y_clf)\n",
    "y_clf = (df_lol['티어'] == 1).astype(int)\n",
    "\n",
    "print(\"--- 예측 재료 데이터 (상위5개) ---\")\n",
    "# .to_frame()을 사용하여 시리즈를 데이터프레임으로 변환해 출력 위치를 맞춥니다.\n",
    "print(y_reg.head().to_frame())\n",
    "print(\"\\n\")\n",
    "\n",
    "print(\"--- 티어 분류 목표 데이터 (상위 5개) ---\")\n",
    "print(y_clf.head().to_frame())\n",
    "print(\"\\n\")\n",
    "\n"
   ]
  },
  {
   "cell_type": "code",
   "execution_count": null,
   "id": "e9373135-a6be-4b87-bb9a-9c658cecb071",
   "metadata": {},
   "outputs": [],
   "source": []
  }
 ],
 "metadata": {
  "kernelspec": {
   "display_name": "Python 3 (ipykernel)",
   "language": "python",
   "name": "python3"
  },
  "language_info": {
   "codemirror_mode": {
    "name": "ipython",
    "version": 3
   },
   "file_extension": ".py",
   "mimetype": "text/x-python",
   "name": "python",
   "nbconvert_exporter": "python",
   "pygments_lexer": "ipython3",
   "version": "3.11.9"
  }
 },
 "nbformat": 4,
 "nbformat_minor": 5
}
