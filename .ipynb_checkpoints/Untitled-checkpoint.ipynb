{
 "cells": [
  {
   "cell_type": "code",
   "execution_count": null,
   "id": "7393026e-f238-4242-b3bd-e89bea96ece2",
   "metadata": {},
   "outputs": [
    {
     "name": "stdout",
     "output_type": "stream",
     "text": [
      "---전체 챔피언 데이터(상위5개)---\n",
      "     챔피언명  포지션  난이도  공격력  방어력  마법저항력   체력   마나  이동속도  티어    승률    픽률  KDA\n",
      "0      가렌   정글    1    8    5      7  671  466   347   1 51.59  9.42 3.98\n",
      "1    이즈리얼  서포터    2    6    2      5  607   21   349   2 51.12  2.95 2.52\n",
      "2    카타리나   정글    2    3    7      4  613  130   331   1 55.14 14.28 4.88\n",
      "3  블리츠크랭크   정글    1    2    4      7  557  430   359   4 46.82 10.28 2.59\n",
      "4    마스터이   미드    2    2   10      2  563  350   339   1 53.25  1.63 2.64\n",
      "총 챔피언 데이터 수:105개\n",
      "\n",
      "\n",
      "---예측 재료 데이터(상위5개)---\n",
      "   포지션  난이도  공격력  방어력  마법저항력   체력   마나  이동속도    픽률  KDA\n",
      "0   정글    1    8    5      7  671  466   347  9.42 3.98\n",
      "1  서포터    2    6    2      5  607   21   349  2.95 2.52\n",
      "2   정글    2    3    7      4  613  130   331 14.28 4.88\n",
      "3   정글    1    2    4      7  557  430   359 10.28 2.59\n",
      "4   미드    2    2   10      2  563  350   339  1.63 2.64\n",
      "\n",
      "\n",
      "--- 승률 예측 목표 데이터(상위5개)---\n",
      "     승률\n",
      "0 51.59\n",
      "1 51.12\n",
      "2 55.14\n",
      "3 46.82\n",
      "4 53.25\n",
      "\n",
      "\n",
      "---티어 분류 목표데이터(상위5개)---\n",
      "   티어\n",
      "0   1\n",
      "1   0\n",
      "2   1\n",
      "3   0\n",
      "4   1\n"
     ]
    }
   ],
   "source": [
    "import pandas as pd\n",
    "\n",
    "df_lol = pd.read_csv('lol_champions.csv')\n",
    "\n",
    "pd.options.display.float_format = '{:.2f}'.format\n",
    "\n",
    "print(\"---전체 챔피언 데이터(상위5개)---\")\n",
    "print(df_lol.head())\n",
    "print(f\"총 챔피언 데이터 수:{len(df_lol)}개\")\n",
    "print(\"\\n\")\n",
    "\n",
    "X = df_lol.drop(['챔피언명','티어','승률'], axis=1)\n",
    "\n",
    "#'목표1: 승률예측'을 위한 정답(y_reg)\n",
    "y_reg = df_lol['승률']\n",
    "\n",
    "#'목표2: 티어분류'를 위한 정답(y_clf)\n",
    "y_clf = (df_lol['티어'] == 1).astype(int)\n",
    "print(\"---예측 재료 데이터(상위5개)---\")\n",
    "print(X.head())\n",
    "print(\"\\n\")\n",
    "\n",
    "print(\"--- 승률 예측 목표 데이터(상위5개)---\")\n",
    "#.to_frame()을 사용하여 시리즈를 데이터프레임으로 변환해 출력 위치를 맞춥니다.\n",
    "print(y_reg.head().to_frame())\n",
    "print('\\n')\n",
    "\n",
    "print('---티어 분류 목표데이터(상위5개)---')\n",
    "print(y_clf.head().to_frame())\n",
    "\n",
    "#2단계: 데이터 분리 - 연습용과 시험용 재료 나누기\n",
    "from sklearn.model_selection import train_test_split\n",
    "\n",
    "#승률 예측 모델을 위한 재료 나누기\n",
    "#test_size=0.3: 전체 데이터의 30%를 시험용으로 사용합니다.\n",
    "#random_state=42: 데이터분할방식을 고정하여 결과를 재현할 수 있게합니다.\n",
    "X_train_reg, X_test_reg, y_train_reg, y_test_reg = train_test_split(X, y_reg, test_size=0.3, random_state=42)\n",
    "\n",
    "#티어 분류 모델을 위한 재료 나누기\n",
    "#stratify=y_clf: '1티어'와 '1티어가 아님'의 비율을 연습용과 시험용 데이터에 동일하게 맞춰줍니다.\n",
    "X_train_clf, X_test_clf, y_train_clf, y_test_clf = train_test_split(X, y_clf, test_size=0.3, random_state=42, stratify=y_clf)\n",
    "\n",
    "print('---승률 예측 모델 연습용 재료 크기 ---')\n",
    "print(X_train_reg.shape)"
   ]
  },
  {
   "cell_type": "code",
   "execution_count": null,
   "id": "088caed6-6f10-4484-a476-1f61183a25a5",
   "metadata": {},
   "outputs": [],
   "source": []
  }
 ],
 "metadata": {
  "kernelspec": {
   "display_name": "Python 3 (ipykernel)",
   "language": "python",
   "name": "python3"
  },
  "language_info": {
   "codemirror_mode": {
    "name": "ipython",
    "version": 3
   },
   "file_extension": ".py",
   "mimetype": "text/x-python",
   "name": "python",
   "nbconvert_exporter": "python",
   "pygments_lexer": "ipython3",
   "version": "3.11.9"
  }
 },
 "nbformat": 4,
 "nbformat_minor": 5
}
